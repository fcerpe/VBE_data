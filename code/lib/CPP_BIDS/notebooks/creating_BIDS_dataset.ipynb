{
 "cells": [
  {
   "cell_type": "markdown",
   "metadata": {},
   "source": [
    "# Creatring BIDS dataset"
   ]
  },
  {
   "cell_type": "markdown",
   "metadata": {},
   "source": [
    "## Creating a dataset description"
   ]
  },
  {
   "cell_type": "code",
   "execution_count": 33,
   "metadata": {},
   "outputs": [],
   "source": [
    "addpath(genpath(fullfile(pwd, '..', 'src')))\n",
    "addpath(genpath(fullfile(pwd, '..', 'lib')))"
   ]
  },
  {
   "cell_type": "code",
   "execution_count": 34,
   "metadata": {},
   "outputs": [],
   "source": [
    "cfg.dir.output = fullfile(pwd, 'output');\n",
    "\n",
    "cfg.task.name = 'test task';\n",
    "\n",
    "cfg.subject.subjectNb = 1;\n",
    "cfg.subject.runNb = 1;\n",
    "\n",
    "cfg.testingDevice = 'mri';\n",
    "\n",
    "cfg.eyetracker.do = 1;\n",
    "\n",
    "cfg.verbose = 2;"
   ]
  },
  {
   "cell_type": "code",
   "execution_count": 35,
   "metadata": {},
   "outputs": [
    {
     "name": "stdout",
     "output_type": "stream",
     "text": [
      "\r\n",
      "\r\n",
      "___________________________________________________\r\n",
      "___________________________________________________\r\n",
      "                                                   \r\n",
      "         ___ ___ ___   ___ ___ ___  ___            \r\n",
      "        / __| _ \\ _ \\ | _ )_ _|   \\/ __|\r\n",
      "       | (__|  _/  _/ | _ \\| || |) \\__ \\\r\n",
      "        \\___|_| |_|   |___/___|___/|___/\r\n",
      "                                                   \r\n",
      "Thank you for using the CPP BIDS - version v1.0.0. \r\n",
      "\r\n",
      "Current list of contributors includes:\r\n",
      " Rémi Gau\r\n",
      " Marco Barilari\r\n",
      " Ceren Battal\r\n",
      " Tomas Lenc\r\n",
      "\b\r\n",
      "\r\n",
      "Please cite using the following DOI: \r\n",
      " https://doi.org/10.5281/zenodo.4007674\r\n",
      "\r\n",
      "For bug report, suggestions or contributions see: \r\n",
      " https://github.com/cpp-lln-lab/CPP_BIDS\r\n",
      "\r\n",
      "___________________________________________________\r\n",
      "___________________________________________________\r\n",
      "\r\n",
      "\r\n",
      "\r\n",
      "Data will be saved in this directory:\r\n",
      "\t/home/remi/github/CPP_BIDS/notebooks/output/source/sub-001/ses-001/func\r\n",
      "\r\n",
      "Data will be saved in this file:\r\n",
      "\tsub-001_ses-001_task-testTask_run-001_events_date-202011171530.tsv\r\n"
     ]
    }
   ],
   "source": [
    "cfg.bids.datasetDescription.Name = 'my new bids data set';\n",
    "cfg.bids.datasetDescription.BIDSVersion =  '1.3';\n",
    "cfg.bids.datasetDescription.License = 'CC-BY';\n",
    "cfg.bids.datasetDescription.Authors = {'John Wick', 'Napoléon Bonaparte'};\n",
    "cfg.bids.datasetDescription.Acknowledgements = '';\n",
    "cfg.bids.datasetDescription.HowToAcknowledge = '';\n",
    "cfg.bids.datasetDescription.Funding = {''};\n",
    "cfg.bids.datasetDescription.ReferencesAndLinks = {''};\n",
    "cfg.bids.datasetDescription.DatasetDOI = '';\n",
    "\n",
    "[cfg] = createFilename(cfg);"
   ]
  },
  {
   "cell_type": "code",
   "execution_count": 36,
   "metadata": {},
   "outputs": [],
   "source": [
    "createDatasetDescription(cfg)"
   ]
  },
  {
   "cell_type": "code",
   "execution_count": 37,
   "metadata": {},
   "outputs": [
    {
     "name": "stdout",
     "output_type": "stream",
     "text": [
      "\u001b[01;34moutput\u001b[00m\r\n",
      "└── \u001b[01;34msource\u001b[00m\r\n",
      "    ├── dataset_description.json\r\n",
      "    └── \u001b[01;34msub-001\u001b[00m\r\n",
      "        └── \u001b[01;34mses-001\u001b[00m\r\n",
      "            └── \u001b[01;34mfunc\u001b[00m\r\n",
      "\r\n",
      "4 directories, 1 file\r\n",
      "\n"
     ]
    }
   ],
   "source": [
    "!tree output"
   ]
  },
  {
   "cell_type": "code",
   "execution_count": 38,
   "metadata": {},
   "outputs": [
    {
     "name": "stdout",
     "output_type": "stream",
     "text": [
      "{\r\n",
      "    \"Acknowledgements\": \"\",\r\n",
      "    \"Authors\": [\r\n",
      "        \"John Wick\",\r\n",
      "        \"Napoléon Bonaparte\"\r\n",
      "    ],\r\n",
      "    \"BIDSVersion\": \"1.3\",\r\n",
      "    \"DatasetDOI\": \"\",\r\n",
      "    \"Funding\": [\"\"],\r\n",
      "    \"HowToAcknowledge\": \"\",\r\n",
      "    \"License\": \"CC-BY\",\r\n",
      "    \"Name\": \"my new bids data set\",\r\n",
      "    \"ReferencesAndLinks\": [\"\"]\r\n",
      "}\n"
     ]
    }
   ],
   "source": [
    "!cat output/source/dataset_description.json"
   ]
  },
  {
   "cell_type": "markdown",
   "metadata": {},
   "source": [
    "## fMRI"
   ]
  },
  {
   "cell_type": "markdown",
   "metadata": {},
   "source": [
    "### fMRI specific name suffixes\n",
    "\n",
    "You can specify some extra information for you fMRI runs as some of this information can be important for filenaming or to add to some JSON files."
   ]
  },
  {
   "cell_type": "code",
   "execution_count": 45,
   "metadata": {},
   "outputs": [],
   "source": [
    "cfg.mri.repetitionTime = 2.1;\n",
    "cfg.suffix.phaseEncodingDirection = 'i-';\n",
    "cfg.suffix.reconstruction = 'motion correction';\n",
    "cfg.suffix.echo = '1';\n",
    "cfg.suffix.acquisition = 'slow';"
   ]
  },
  {
   "cell_type": "code",
   "execution_count": 48,
   "metadata": {},
   "outputs": [
    {
     "name": "stdout",
     "output_type": "stream",
     "text": [
      "\r\n",
      "\r\n",
      "___________________________________________________\r\n",
      "___________________________________________________\r\n",
      "                                                   \r\n",
      "         ___ ___ ___   ___ ___ ___  ___            \r\n",
      "        / __| _ \\ _ \\ | _ )_ _|   \\/ __|\r\n",
      "       | (__|  _/  _/ | _ \\| || |) \\__ \\\r\n",
      "        \\___|_| |_|   |___/___|___/|___/\r\n",
      "                                                   \r\n",
      "Thank you for using the CPP BIDS - version v1.0.0. \r\n",
      "\r\n",
      "Current list of contributors includes:\r\n",
      " Rémi Gau\r\n",
      " Marco Barilari\r\n",
      " Ceren Battal\r\n",
      " Tomas Lenc\r\n",
      "\b\r\n",
      "\r\n",
      "Please cite using the following DOI: \r\n",
      " https://doi.org/10.5281/zenodo.4007674\r\n",
      "\r\n",
      "For bug report, suggestions or contributions see: \r\n",
      " https://github.com/cpp-lln-lab/CPP_BIDS\r\n",
      "\r\n",
      "___________________________________________________\r\n",
      "___________________________________________________\r\n",
      "\r\n",
      "\r\n",
      "\r\n",
      "Data will be saved in this directory:\r\n",
      "\t/home/remi/github/CPP_BIDS/notebooks/output/source/sub-001/ses-001/func\r\n",
      "\r\n",
      "Data will be saved in this file:\r\n",
      "\tsub-001_ses-001_task-testTask_run-001_events_date-202011171531.tsv\r\n"
     ]
    }
   ],
   "source": [
    "[cfg] = createFilename(cfg);"
   ]
  },
  {
   "cell_type": "code",
   "execution_count": 47,
   "metadata": {},
   "outputs": [
    {
     "name": "stdout",
     "output_type": "stream",
     "text": [
      "sub-001_ses-001_task-testTask_run-001_events_date-202011171531.tsv\r\n"
     ]
    }
   ],
   "source": [
    "disp(cfg.fileName.events)"
   ]
  },
  {
   "cell_type": "markdown",
   "metadata": {},
   "source": [
    "### Saving a `_bold.json` file\n",
    "\n",
    "There is bare minimum functionality to create a `_bold.json` file for fMRI runs: the information in there wil be that required to pass a BIDS validation but no more. You should REALLY get most of the information for `bold.json` from your favorite DICOM to Nifti converter\n",
    "\n",
    "This function is there because it can help put in JSON format some of the information that would NOT be available to a converter (usually information about your task)."
   ]
  },
  {
   "cell_type": "code",
   "execution_count": 51,
   "metadata": {},
   "outputs": [],
   "source": [
    "createJson(cfg, 'func')"
   ]
  },
  {
   "cell_type": "code",
   "execution_count": 52,
   "metadata": {},
   "outputs": [
    {
     "name": "stdout",
     "output_type": "stream",
     "text": [
      "\u001b[01;34moutput\u001b[00m\r\n",
      "└── \u001b[01;34msource\u001b[00m\r\n",
      "    ├── dataset_description.json\r\n",
      "    └── \u001b[01;34msub-001\u001b[00m\r\n",
      "        └── \u001b[01;34mses-001\u001b[00m\r\n",
      "            └── \u001b[01;34mfunc\u001b[00m\r\n",
      "                ├── sub-001_ses-001_task-testTask_run-001_bold_date-202011171530.json\r\n",
      "                └── sub-001_ses-001_task-testTask_run-001_bold_date-202011171531.json\r\n",
      "\r\n",
      "4 directories, 3 files\r\n",
      "\n"
     ]
    }
   ],
   "source": [
    "!tree output"
   ]
  },
  {
   "cell_type": "code",
   "execution_count": 44,
   "metadata": {},
   "outputs": [
    {
     "name": "stdout",
     "output_type": "stream",
     "text": [
      "{\r\n",
      "    \"Instructions\": \"\",\r\n",
      "    \"RepetitionTime\": [],\r\n",
      "    \"SliceTiming\": [],\r\n",
      "    \"TaskDescription\": \"\",\r\n",
      "    \"TaskName\": \"test Task\"\r\n",
      "}\n"
     ]
    }
   ],
   "source": [
    "!cat output/source/sub-001/ses-001/func/sub-001*bold_date-*.json"
   ]
  },
  {
   "cell_type": "markdown",
   "metadata": {},
   "source": [
    "### Adding extra info to your `_bold.json`\n",
    "\n",
    "One thing this function CAN do though is help you save some of the information about your experiment in a json format rather than a `.mat` format. The former being a simple text file you can easily open on any computer.\n",
    "\n",
    "For example if you have defined some other parameters in another structure."
   ]
  },
  {
   "cell_type": "code",
   "execution_count": 14,
   "metadata": {},
   "outputs": [],
   "source": [
    "%% Timing info\n",
    "\n",
    "% Time between blocs in secs\n",
    "parameters.timing.IBI = 1.8 * 3; % 8;\n",
    "% Time between events in secs\n",
    "parameters.timing.ISI = 0.1;\n",
    "% Number of seconds before the motion stimuli are presented\n",
    "parameters.timing.onsetDelay = .1;\n",
    "% Number of seconds after the end all the stimuli before ending the run\n",
    "parameters.timing.endDelay = .1;\n",
    "\n",
    "parameters.timing.eventDuration = 0.8; % second\n",
    "\n",
    "%% Visual Stimulation\n",
    "\n",
    "% Speed in visual angles / second\n",
    "parameters.dot.speed = 30;\n",
    "% Coherence Level (0-1)\n",
    "parameters.dot.coherence = 1;\n",
    "% Number of dots per visual angle square.\n",
    "parameters.dot.density = .1;\n",
    "% Dot life time in seconds\n",
    "parameters.dot.lifeTime = 10;\n",
    "% proportion of dots killed per frame\n",
    "parameters.dot.proportionKilledPerFrame = 0;\n",
    "% Dot Size (dot width) in visual angles.\n",
    "parameters.dot.size = 1;"
   ]
  },
  {
   "cell_type": "code",
   "execution_count": 13,
   "metadata": {},
   "outputs": [],
   "source": [
    "createJson(cfg, parameters)"
   ]
  },
  {
   "cell_type": "code",
   "execution_count": 15,
   "metadata": {},
   "outputs": [
    {
     "name": "stdout",
     "output_type": "stream",
     "text": [
      "{\r\n",
      "    \"Instructions\": \"\",\r\n",
      "    \"RepetitionTime\": [],\r\n",
      "    \"SliceTiming\": [],\r\n",
      "    \"TaskDescription\": \"\",\r\n",
      "    \"TaskName\": \"test Task\"\r\n",
      "}\n"
     ]
    }
   ],
   "source": [
    "!cat output/source/sub-001/ses-001/func/sub-001*bold_date-*.json"
   ]
  },
  {
   "cell_type": "markdown",
   "metadata": {},
   "source": [
    "## Converting your data set from source to raw\n",
    "\n",
    "Before we do that, let's adding some actual data to the dataset."
   ]
  },
  {
   "cell_type": "code",
   "execution_count": 18,
   "metadata": {},
   "outputs": [
    {
     "name": "stdout",
     "output_type": "stream",
     "text": [
      "onset\tduration\ttrial_type\ttarget_position\ttarget_type\n",
      "ans =  2\n",
      "2.000000\tans =  1\n",
      "1.000000\tmotion_up\tleft\taudio\t\n",
      "ans =  6\n",
      "6.000000\tans =  1.2000\n",
      "1.200000\tstatic\tright\tvisual\t\n",
      "\n",
      "Data were saved in this file:\n",
      "\n",
      "/home/remi/github/CPP_BIDS/notebooks/output/source/sub-001/ses-001/func/sub-001_ses-001_task-testTask_run-001_events_date-202011171307.tsv\n",
      "\n"
     ]
    }
   ],
   "source": [
    "\n",
    "logFile.extraColumns = {'target_position', 'target_type'};\n",
    "\n",
    "logFile = saveEventsFile('init', cfg, logFile);\n",
    "logFile = saveEventsFile('open', cfg, logFile);\n",
    "\n",
    "logFile(1,1).onset = 2;\n",
    "logFile(1,1).trial_type = 'motion_up';\n",
    "logFile(1,1).duration = 1;\n",
    "logFile(1,1).target_position = 'left';\n",
    "logFile(1,1).target_type = 'audio';\n",
    "\n",
    "logFile(2,1).onset = 6;\n",
    "logFile(2,1).trial_type = 'static';\n",
    "logFile(2,1).duration = 1.2;\n",
    "logFile(2,1).target_position = 'right';\n",
    "logFile(2,1).target_type = 'visual';\n",
    "\n",
    "logFile = saveEventsFile('save', cfg, logFile);\n",
    "\n",
    "saveEventsFile('close', cfg, logFile);"
   ]
  },
  {
   "cell_type": "code",
   "execution_count": 53,
   "metadata": {
    "scrolled": false
   },
   "outputs": [
    {
     "name": "stdout",
     "output_type": "stream",
     "text": [
      "\u001b[01;34moutput\u001b[00m\r\n",
      "└── \u001b[01;34msource\u001b[00m\r\n",
      "    ├── dataset_description.json\r\n",
      "    └── \u001b[01;34msub-001\u001b[00m\r\n",
      "        └── \u001b[01;34mses-001\u001b[00m\r\n",
      "            └── \u001b[01;34mfunc\u001b[00m\r\n",
      "                ├── sub-001_ses-001_task-testTask_run-001_bold_date-202011171530.json\r\n",
      "                └── sub-001_ses-001_task-testTask_run-001_bold_date-202011171531.json\r\n",
      "\r\n",
      "4 directories, 3 files\r\n",
      "\n"
     ]
    }
   ],
   "source": [
    "!tree output"
   ]
  },
  {
   "cell_type": "markdown",
   "metadata": {},
   "source": [
    "The very basic conversion here mostly entails:\n",
    "- adding empty README and CHANGES files in the `source` folder\n",
    "- copying the content of the `source` folder into a `raw` folder\n",
    "- removing the date suffixes\n",
    "- compressing `_stim.tsv` into `_stim.tsv.gz`"
   ]
  },
  {
   "cell_type": "code",
   "execution_count": 20,
   "metadata": {},
   "outputs": [],
   "source": [
    "convertSourceToRaw(cfg)"
   ]
  },
  {
   "cell_type": "code",
   "execution_count": 21,
   "metadata": {},
   "outputs": [
    {
     "name": "stdout",
     "output_type": "stream",
     "text": [
      "\u001b[01;34m.\u001b[00m\r\n",
      "├── basic_usage.ipynb\r\n",
      "├── creating_BIDS_dataset.ipynb\r\n",
      "├── \u001b[01;34moutput\u001b[00m\r\n",
      "│   ├── \u001b[01;34mraw\u001b[00m\r\n",
      "│   │   ├── CHANGES\r\n",
      "│   │   ├── dataset_description.json\r\n",
      "│   │   ├── README\r\n",
      "│   │   └── \u001b[01;34msub-001\u001b[00m\r\n",
      "│   │       └── \u001b[01;34mses-001\u001b[00m\r\n",
      "│   │           └── \u001b[01;34mfunc\u001b[00m\r\n",
      "│   │               ├── sub-001_ses-001_task-testTask_run-001_bold.json\r\n",
      "│   │               ├── sub-001_ses-001_task-testTask_run-001_events.json\r\n",
      "│   │               └── sub-001_ses-001_task-testTask_run-001_events.tsv\r\n",
      "│   └── \u001b[01;34msource\u001b[00m\r\n",
      "│       ├── CHANGES\r\n",
      "│       ├── dataset_description.json\r\n",
      "│       ├── README\r\n",
      "│       └── \u001b[01;34msub-001\u001b[00m\r\n",
      "│           └── \u001b[01;34mses-001\u001b[00m\r\n",
      "│               └── \u001b[01;34mfunc\u001b[00m\r\n",
      "│                   ├── sub-001_ses-001_task-testTask_run-001_bold_date-202011171307.json\r\n",
      "│                   ├── sub-001_ses-001_task-testTask_run-001_events_date-202011171307.json\r\n",
      "│                   └── sub-001_ses-001_task-testTask_run-001_events_date-202011171307.tsv\r\n",
      "├── README.md\r\n",
      "├── saving_arrays.ipynb\r\n",
      "├── saving_stim_files.ipynb\r\n",
      "└── using_2_logfiles.ipynb\r\n",
      "\r\n",
      "9 directories, 18 files\r\n",
      "\n"
     ]
    }
   ],
   "source": [
    "!tree"
   ]
  }
 ],
 "metadata": {
  "kernelspec": {
   "display_name": "Octave",
   "language": "octave",
   "name": "octave"
  },
  "language_info": {
   "file_extension": ".m",
   "help_links": [
    {
     "text": "GNU Octave",
     "url": "https://www.gnu.org/software/octave/support.html"
    },
    {
     "text": "Octave Kernel",
     "url": "https://github.com/Calysto/octave_kernel"
    },
    {
     "text": "MetaKernel Magics",
     "url": "https://metakernel.readthedocs.io/en/latest/source/README.html"
    }
   ],
   "mimetype": "text/x-octave",
   "name": "octave",
   "version": "4.2.2"
  }
 },
 "nbformat": 4,
 "nbformat_minor": 4
}
