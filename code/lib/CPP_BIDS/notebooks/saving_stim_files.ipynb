{
 "cells": [
  {
   "cell_type": "markdown",
   "metadata": {},
   "source": [
    "# Saving `_stim.tsv` files"
   ]
  },
  {
   "cell_type": "code",
   "execution_count": 8,
   "metadata": {},
   "outputs": [],
   "source": [
    "% add the relevant functions from the source and library folder\n",
    "addpath(genpath(fullfile(pwd, '..', 'src')))\n",
    "addpath(genpath(fullfile(pwd, '..', 'lib')))"
   ]
  },
  {
   "cell_type": "markdown",
   "metadata": {},
   "source": [
    "## Set Up"
   ]
  },
  {
   "cell_type": "code",
   "execution_count": 9,
   "metadata": {},
   "outputs": [
    {
     "name": "stdout",
     "output_type": "stream",
     "text": [
      "\r\n",
      "\r\n",
      "___________________________________________________\r\n",
      "___________________________________________________\r\n",
      "                                                   \r\n",
      "         ___ ___ ___   ___ ___ ___  ___            \r\n",
      "        / __| _ \\ _ \\ | _ )_ _|   \\/ __|\r\n",
      "       | (__|  _/  _/ | _ \\| || |) \\__ \\\r\n",
      "        \\___|_| |_|   |___/___|___/|___/\r\n",
      "                                                   \r\n",
      "Thank you for using the CPP BIDS - version v2.0.0. \r\n",
      "\r\n",
      "Current list of contributors includes:\r\n",
      " Remi Gau\r\n",
      " Marco Barilari\r\n",
      " Ceren Battal\r\n",
      " Tomas Lenc\r\n",
      "\b\r\n",
      "\r\n",
      "Please cite using the following DOI: \r\n",
      " https://doi.org/10.5281/zenodo.4007674\r\n",
      "\r\n",
      "For bug report, suggestions or contributions see: \r\n",
      " https://github.com/cpp-lln-lab/CPP_BIDS\r\n",
      "\r\n",
      "___________________________________________________\r\n",
      "___________________________________________________\r\n",
      "\r\n",
      "\r\n",
      "\r\n",
      "Data will be saved in this directory:\r\n",
      "\t/home/remi/github/CPP_BIDS/notebooks/output/source/sub-001/ses-001/func\r\n",
      "\r\n",
      "Data will be saved in this file:\r\n",
      "\tsub-001_ses-001_task-testTask_run-001_events_date-202012250913.tsv\r\n"
     ]
    }
   ],
   "source": [
    "cfg.dir.output = fullfile(pwd, 'output');\n",
    "\n",
    "cfg.verbose = 2;\n",
    "\n",
    "cfg.subject.subjectNb = 1;\n",
    "cfg.subject.runNb = 1;\n",
    "\n",
    "cfg.task.name = 'test task';\n",
    "\n",
    "cfg.testingDevice = 'mri';\n",
    "\n",
    "cfg = createFilename(cfg);"
   ]
  },
  {
   "cell_type": "markdown",
   "metadata": {},
   "source": [
    "## Define the columns of the stim.tsv"
   ]
  },
  {
   "cell_type": "code",
   "execution_count": 10,
   "metadata": {},
   "outputs": [],
   "source": [
    "logFile.extraColumns = {'Speed', 'LHL24', 'is_Fixation'};\n",
    "\n",
    "logFile = saveEventsFile('init_stim', cfg, logFile);\n",
    "\n",
    "logFile.extraColumns.Speed.length = 1;\n",
    "logFile.extraColumns.LHL24.length = 3;\n",
    "logFile.extraColumns.is_Fixation.length = 1;"
   ]
  },
  {
   "cell_type": "code",
   "execution_count": 11,
   "metadata": {},
   "outputs": [
    {
     "name": "stdout",
     "output_type": "stream",
     "text": [
      "\n",
      "  scalar structure containing the fields:\n",
      "\n",
      "    extraColumns =\n",
      "\n",
      "      scalar structure containing the fields:\n",
      "\n",
      "        Speed =\n",
      "\n",
      "          scalar structure containing the fields:\n",
      "\n",
      "            bids: 1x1 scalar struct\n",
      "            length: 1x1 scalar\n",
      "\n",
      "        LHL24 =\n",
      "\n",
      "          scalar structure containing the fields:\n",
      "\n",
      "            bids: 1x1 scalar struct\n",
      "            length: 1x1 scalar\n",
      "\n",
      "        is_Fixation =\n",
      "\n",
      "          scalar structure containing the fields:\n",
      "\n",
      "            bids: 1x1 scalar struct\n",
      "            length: 1x1 scalar\n",
      "\n",
      "\n",
      "    onset =  55\n",
      "    trial_type = motion_up\n",
      "    duration =  66\n",
      "    isStim = 1\n",
      "    filename = sub-001_ses-001_task-testTask_run-001_stim_date-202012250913.tsv\n",
      "    fileID =  3\n",
      "    Speed =  2\n",
      "    LHL24 =\n",
      "\n",
      "       1   2   3\n",
      "\n",
      "    is_Fixation = 1\n",
      "\n",
      "  scalar structure containing the fields:\n",
      "\n",
      "    extraColumns =\n",
      "\n",
      "      scalar structure containing the fields:\n",
      "\n",
      "        Speed =\n",
      "\n",
      "          scalar structure containing the fields:\n",
      "\n",
      "            bids: 1x1 scalar struct\n",
      "            length: 1x1 scalar\n",
      "\n",
      "        LHL24 =\n",
      "\n",
      "          scalar structure containing the fields:\n",
      "\n",
      "            bids: 1x1 scalar struct\n",
      "            length: 1x1 scalar\n",
      "\n",
      "        is_Fixation =\n",
      "\n",
      "          scalar structure containing the fields:\n",
      "\n",
      "            bids: 1x1 scalar struct\n",
      "            length: 1x1 scalar\n",
      "\n",
      "\n",
      "    onset =  55\n",
      "    trial_type = motion_up\n",
      "    duration =  66\n",
      "    isStim = 1\n",
      "    filename = sub-001_ses-001_task-testTask_run-001_stim_date-202012250913.tsv\n",
      "    fileID =  3\n",
      "    Speed =  2\n",
      "    LHL24 =\n",
      "\n",
      "       1   2   3\n",
      "\n",
      "    is_Fixation = 1\n",
      "2.000000\t1.000000\t2.000000\t3.000000\ttrue\t\n",
      "\n",
      "Data were saved in this file:\n",
      "\n",
      "/home/remi/github/CPP_BIDS/notebooks/output/source/sub-001/ses-001/func/sub-001_ses-001_task-testTask_run-001_stim_date-202012250913.tsv\n",
      "\n"
     ]
    }
   ],
   "source": [
    "% create the events file and header\n",
    "logFile = saveEventsFile('open', cfg, logFile);\n",
    "\n",
    "% ROW 1\n",
    "logFile(1, 1).onset = 55;\n",
    "logFile(end, 1).trial_type = 'motion_up';\n",
    "logFile(end, 1).duration = 66;\n",
    "logFile(end, 1).Speed = 2;\n",
    "logFile(end, 1).LHL24 = 1:3;\n",
    "logFile(end, 1).is_Fixation = true;\n",
    "\n",
    "logFile = saveEventsFile('save', cfg, logFile);\n",
    "\n",
    "% close the file\n",
    "saveEventsFile('close', cfg, logFile);"
   ]
  },
  {
   "cell_type": "markdown",
   "metadata": {},
   "source": [
    "## Inspect the content of the stim.tsv file\n",
    "    \n",
    "The `onset`, `duration` and `trial_type` are ignored because they were note spcified in the `extraColumns` field.\n"
   ]
  },
  {
   "cell_type": "code",
   "execution_count": 13,
   "metadata": {},
   "outputs": [
    {
     "name": "stdout",
     "output_type": "stream",
     "text": [
      "2.000000\t1.000000\t2.000000\t3.000000\ttrue\t\r\n",
      "\n"
     ]
    }
   ],
   "source": [
    "!cat output/source/sub-001/ses-001/func/sub-001_ses-001_task-testTask_run-001_stim_date-*.tsv "
   ]
  }
 ],
 "metadata": {
  "kernelspec": {
   "display_name": "Octave",
   "language": "octave",
   "name": "octave"
  },
  "language_info": {
   "file_extension": ".m",
   "help_links": [
    {
     "text": "GNU Octave",
     "url": "https://www.gnu.org/software/octave/support.html"
    },
    {
     "text": "Octave Kernel",
     "url": "https://github.com/Calysto/octave_kernel"
    },
    {
     "text": "MetaKernel Magics",
     "url": "https://metakernel.readthedocs.io/en/latest/source/README.html"
    }
   ],
   "mimetype": "text/x-octave",
   "name": "octave",
   "version": "4.2.2"
  }
 },
 "nbformat": 4,
 "nbformat_minor": 4
}
