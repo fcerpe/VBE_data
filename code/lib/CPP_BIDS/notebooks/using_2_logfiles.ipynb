{
 "cells": [
  {
   "cell_type": "markdown",
   "metadata": {},
   "source": [
    "# Saving two `_events.tsv` for the same run\n",
    "\n",
    "This won't create BIDS valid output but this might help you organize some of your output in different TSV files.\n",
    "\n"
   ]
  },
  {
   "cell_type": "code",
   "execution_count": 1,
   "metadata": {},
   "outputs": [],
   "source": [
    "% add the relevant functions from the src folder\n",
    "addpath(genpath(fullfile(pwd, '..', 'src')))\n",
    "addpath(genpath(fullfile(pwd, '..', 'lib')))\n",
    "\n",
    "cfg.dir.output = fullfile(pwd, 'output');\n",
    "\n",
    "cfg.task.name = 'test task';\n",
    "\n",
    "cfg.subject.subjectNb = 1;\n",
    "cfg.subject.runNb = 1;"
   ]
  },
  {
   "cell_type": "markdown",
   "metadata": {},
   "source": [
    "## create a first logfile"
   ]
  },
  {
   "cell_type": "code",
   "execution_count": 2,
   "metadata": {
    "scrolled": true
   },
   "outputs": [
    {
     "name": "stdout",
     "output_type": "stream",
     "text": [
      "\r\n",
      "\r\n",
      "___________________________________________________\r\n",
      "___________________________________________________\r\n",
      "                                                   \r\n",
      "         ___ ___ ___   ___ ___ ___  ___            \r\n",
      "        / __| _ \\ _ \\ | _ )_ _|   \\/ __|\r\n",
      "       | (__|  _/  _/ | _ \\| || |) \\__ \\\r\n",
      "        \\___|_| |_|   |___/___|___/|___/\r\n",
      "                                                   \r\n",
      "Thank you for using the CPP BIDS - version v1.0.0. \r\n",
      "\r\n",
      "Current list of contributors includes:\r\n",
      " Rémi Gau\r\n",
      " Marco Barilari\r\n",
      " Ceren Battal\r\n",
      " Tomas Lenc\r\n",
      "\b\r\n",
      "\r\n",
      "Please cite using the following DOI: \r\n",
      " https://doi.org/10.5281/zenodo.4007674\r\n",
      "\r\n",
      "For bug report, suggestions or contributions see: \r\n",
      " https://github.com/cpp-lln-lab/CPP_BIDS\r\n",
      "\r\n",
      "___________________________________________________\r\n",
      "___________________________________________________\r\n",
      "\r\n",
      "\r\n"
     ]
    }
   ],
   "source": [
    "[cfg] = createFilename(cfg);\n",
    "logFile.extraColumns = {'target_position', 'target_type'};"
   ]
  },
  {
   "cell_type": "code",
   "execution_count": 3,
   "metadata": {},
   "outputs": [
    {
     "name": "stdout",
     "output_type": "stream",
     "text": [
      "onset\tduration\ttrial_type\ttarget_position\ttarget_type\r\n"
     ]
    }
   ],
   "source": [
    "logFile = saveEventsFile('init', cfg, logFile);\n",
    "logFile = saveEventsFile('open', cfg, logFile);"
   ]
  },
  {
   "cell_type": "markdown",
   "metadata": {},
   "source": [
    "## create a second logfile"
   ]
  },
  {
   "cell_type": "code",
   "execution_count": 4,
   "metadata": {},
   "outputs": [],
   "source": [
    "% we use a copy of the configuration and we modify the 'acq' field in the BIDS naming convention\n",
    "cfg_2 = cfg;\n",
    "cfg_2.suffix.acquisition = 'extraInfo';\n",
    "\n",
    "[cfg_2] = createFilename(cfg_2);\n",
    "logFile_2.extraColumns = {'target_color'};"
   ]
  },
  {
   "cell_type": "code",
   "execution_count": 5,
   "metadata": {},
   "outputs": [
    {
     "name": "stdout",
     "output_type": "stream",
     "text": [
      "onset\tduration\ttrial_type\ttarget_color\r\n"
     ]
    }
   ],
   "source": [
    "logFile_2 = saveEventsFile('init', cfg_2, logFile_2);\n",
    "logFile_2 = saveEventsFile('open', cfg_2, logFile_2);\n",
    "clear cfg2 % we don't need it anymore as this was only need to create the new filename"
   ]
  },
  {
   "cell_type": "markdown",
   "metadata": {},
   "source": [
    "## log file into the 2 different files"
   ]
  },
  {
   "cell_type": "code",
   "execution_count": 6,
   "metadata": {
    "scrolled": true
   },
   "outputs": [
    {
     "name": "stdout",
     "output_type": "stream",
     "text": [
      "ans =  2\n",
      "ans =  0.50000\n",
      "ans =  2\n",
      "\n",
      "ans =  3\n",
      "ans =  1\n",
      "ans =  1\n",
      "\n",
      "\n",
      "\n",
      "ans =  2\n",
      "ans =  0.50000\n",
      "\n",
      "ans =  3\n",
      "ans =  1\n",
      "\n"
     ]
    }
   ],
   "source": [
    "% Trial one\n",
    "logFile(1,1).onset = 2;\n",
    "logFile(1,1).trial_type = 'motion_up';\n",
    "logFile(1,1).duration = 0.5;\n",
    "logFile(1,1).target_position = 2;\n",
    "logFile(1,1).target_type = 'visual';\n",
    "\n",
    "% we do have to repeat some information here for onset, duration, trial type\n",
    "logFile_2(1,1).onset = 2;\n",
    "logFile_2(1,1).trial_type = 'motion_up';\n",
    "logFile_2(1,1).duration = 0.5;\n",
    "logFile_2(1,1).target_color = 'red';\n",
    "\n",
    "% Trial two\n",
    "logFile(2,1).onset = 3;\n",
    "logFile(2,1).trial_type = 'motion_down';\n",
    "logFile(2,1).duration = 1;\n",
    "logFile(2,1).target_position = 1;\n",
    "logFile(2,1).target_type = 'visual';\n",
    "\n",
    "logFile_2(2,1).onset = 3;\n",
    "logFile_2(2,1).trial_type = 'motion_down';\n",
    "logFile_2(2,1).duration = 1;\n",
    "logFile_2(2,1).target_color = 'blue';\n",
    "\n",
    "% save to the tsv file\n",
    "logFile = saveEventsFile('save', cfg, logFile);\n",
    "\n",
    "% skip lines for display\n",
    "fprintf(1, '\\n\\n')\n",
    "\n",
    "logFile_2 = saveEventsFile('save', cfg, logFile_2);"
   ]
  },
  {
   "cell_type": "code",
   "execution_count": 7,
   "metadata": {},
   "outputs": [],
   "source": [
    "saveEventsFile('close', cfg, logFile);\n",
    "saveEventsFile('close', cfg, logFile_2);"
   ]
  }
 ],
 "metadata": {
  "kernelspec": {
   "display_name": "Octave",
   "language": "octave",
   "name": "octave"
  },
  "language_info": {
   "file_extension": ".m",
   "help_links": [
    {
     "text": "GNU Octave",
     "url": "https://www.gnu.org/software/octave/support.html"
    },
    {
     "text": "Octave Kernel",
     "url": "https://github.com/Calysto/octave_kernel"
    },
    {
     "text": "MetaKernel Magics",
     "url": "https://metakernel.readthedocs.io/en/latest/source/README.html"
    }
   ],
   "mimetype": "text/x-octave",
   "name": "octave",
   "version": "4.2.2"
  }
 },
 "nbformat": 4,
 "nbformat_minor": 4
}
