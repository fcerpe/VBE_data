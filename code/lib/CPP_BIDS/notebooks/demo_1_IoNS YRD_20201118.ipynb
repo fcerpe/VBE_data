{
 "cells": [
  {
   "cell_type": "markdown",
   "metadata": {},
   "source": [
    "# CPP BIDS: quick demo 1"
   ]
  },
  {
   "cell_type": "code",
   "execution_count": null,
   "metadata": {},
   "outputs": [],
   "source": [
    "% add the relevant functions from the source and library folder\n",
    "addpath(genpath(fullfile(pwd, '..', 'src')))\n",
    "addpath(genpath(fullfile(pwd, '..', 'lib')))"
   ]
  },
  {
   "cell_type": "markdown",
   "metadata": {},
   "source": [
    "# Simplest case: behavioral experiment"
   ]
  },
  {
   "cell_type": "markdown",
   "metadata": {},
   "source": [
    "### Set up"
   ]
  },
  {
   "cell_type": "code",
   "execution_count": null,
   "metadata": {
    "scrolled": true
   },
   "outputs": [],
   "source": [
    "% clean up\n",
    "clear cfg logFile\n",
    "rmdir(fullfile(pwd, 'new_experiment'), 's');\n",
    "\n",
    "% Define where to save things, subject and run number, task name\n",
    "cfg.dir.output = fullfile(pwd, 'new_experiment');   \n",
    "\n",
    "cfg.subject.subjectNb = 1;\n",
    "cfg.subject.runNb = 1;\n",
    "\n",
    "cfg.task.name = 'test task';\n",
    "\n",
    "% to print some output to the prompt\n",
    "cfg.verbose = 1;\n"
   ]
  },
  {
   "cell_type": "markdown",
   "metadata": {},
   "source": [
    "### Initialize the output files"
   ]
  },
  {
   "cell_type": "code",
   "execution_count": null,
   "metadata": {},
   "outputs": [],
   "source": [
    "cfg = createFilename(cfg);\n",
    "logFile = saveEventsFile('init', cfg);\n",
    "logFile = saveEventsFile('open', cfg, logFile);"
   ]
  },
  {
   "cell_type": "markdown",
   "metadata": {},
   "source": [
    "### Add content to the outpute file\n",
    "\n",
    "Append content to `logFile` and then save it."
   ]
  },
  {
   "cell_type": "code",
   "execution_count": null,
   "metadata": {},
   "outputs": [],
   "source": [
    "logFile(1, 1).onset = 2;\n",
    "logFile(1, 1).trial_type = 'target';\n",
    "logFile(1, 1).duration = 0.25;\n",
    "\n",
    "logFile(2, 1).onset = 5;\n",
    "logFile(2, 1).trial_type = 'no_target';\n",
    "logFile(2, 1).duration = 0.36;\n",
    "\n",
    "logFile = saveEventsFile('save', cfg, logFile);\n"
   ]
  },
  {
   "cell_type": "code",
   "execution_count": null,
   "metadata": {},
   "outputs": [],
   "source": [
    "% close the file\n",
    "saveEventsFile('close', cfg, logFile);"
   ]
  },
  {
   "cell_type": "markdown",
   "metadata": {},
   "source": [
    "### check the output"
   ]
  },
  {
   "cell_type": "code",
   "execution_count": null,
   "metadata": {
    "scrolled": true
   },
   "outputs": [],
   "source": [
    "!tree new_experiment"
   ]
  },
  {
   "cell_type": "code",
   "execution_count": null,
   "metadata": {},
   "outputs": [],
   "source": [
    "!cat new_experiment/source/sub-001/ses-001/beh/sub-001_ses-001_task-testTask_run-001_events_date-*.tsv"
   ]
  },
  {
   "cell_type": "code",
   "execution_count": null,
   "metadata": {},
   "outputs": [],
   "source": [
    "!cat new_experiment/source/sub-001/ses-001/beh/sub-001_ses-001_task-testTask_run-001_events_date-*.json"
   ]
  }
 ],
 "metadata": {
  "kernelspec": {
   "display_name": "Octave",
   "language": "octave",
   "name": "octave"
  },
  "language_info": {
   "file_extension": ".m",
   "help_links": [
    {
     "text": "GNU Octave",
     "url": "https://www.gnu.org/software/octave/support.html"
    },
    {
     "text": "Octave Kernel",
     "url": "https://github.com/Calysto/octave_kernel"
    },
    {
     "text": "MetaKernel Magics",
     "url": "https://metakernel.readthedocs.io/en/latest/source/README.html"
    }
   ],
   "mimetype": "text/x-octave",
   "name": "octave",
   "version": "4.2.2"
  }
 },
 "nbformat": 4,
 "nbformat_minor": 4
}
