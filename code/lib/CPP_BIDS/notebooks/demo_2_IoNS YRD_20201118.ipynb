{
 "cells": [
  {
   "cell_type": "markdown",
   "metadata": {},
   "source": [
    "# CPP BIDS: quick demo 2"
   ]
  },
  {
   "cell_type": "code",
   "execution_count": null,
   "metadata": {},
   "outputs": [],
   "source": [
    "% add the relevant functions from the source and library folder\n",
    "addpath(genpath(fullfile(pwd, '..', 'src')))\n",
    "addpath(genpath(fullfile(pwd, '..', 'lib')))"
   ]
  },
  {
   "cell_type": "markdown",
   "metadata": {},
   "source": [
    "# fMRI experiment with eyetracking"
   ]
  },
  {
   "cell_type": "markdown",
   "metadata": {},
   "source": [
    "## Set up"
   ]
  },
  {
   "cell_type": "code",
   "execution_count": null,
   "metadata": {
    "scrolled": true
   },
   "outputs": [],
   "source": [
    "% clean up\n",
    "clear cfg logFile\n",
    "\n",
    "% Define where to save things, subject and run number, task name\n",
    "cfg.dir.output = fullfile(pwd, 'new_experiment');    \n",
    "\n",
    "cfg.subject.subjectNb = 1;\n",
    "cfg.subject.runNb = 1;\n",
    "\n",
    "cfg.task.name = 'test task';\n",
    "\n",
    "cfg.testingDevice = 'mri';\n",
    "\n",
    "cfg.eyeTracker.do = 1;\n",
    "\n",
    "% to print some output to the prompt\n",
    "cfg.verbose = 1;\n"
   ]
  },
  {
   "cell_type": "markdown",
   "metadata": {},
   "source": [
    "## Additional details about the experiment "
   ]
  },
  {
   "cell_type": "code",
   "execution_count": null,
   "metadata": {},
   "outputs": [],
   "source": [
    "% other information to save in the TSV file\n",
    "logFile.extraColumns = {'target_position', 'target_type'};\n",
    "\n",
    "% Time between events in seconds\n",
    "parameters.timing.ISI = 0.1;\n",
    "\n",
    "% Number of seconds before the stimuli are presented\n",
    "parameters.timing.onsetDelay = .1;\n",
    "\n",
    "% Event duration\n",
    "parameters.timing.eventDuration = 0.8;\n"
   ]
  },
  {
   "cell_type": "markdown",
   "metadata": {},
   "source": [
    "## fMRI details"
   ]
  },
  {
   "cell_type": "code",
   "execution_count": null,
   "metadata": {},
   "outputs": [],
   "source": [
    "cfg.mri.repetitionTime = 2.1;\n",
    "\n",
    "cfg.suffix.phaseEncodingDirection = 'AP';\n",
    "cfg.suffix.reconstruction = 'MoCo';\n"
   ]
  },
  {
   "cell_type": "markdown",
   "metadata": {},
   "source": [
    "## Initialize the output files"
   ]
  },
  {
   "cell_type": "code",
   "execution_count": null,
   "metadata": {},
   "outputs": [],
   "source": [
    "cfg = createFilename(cfg);\n",
    "\n",
    "logFile = saveEventsFile('init', cfg, logFile);\n",
    "logFile = saveEventsFile('open', cfg, logFile);"
   ]
  },
  {
   "cell_type": "markdown",
   "metadata": {},
   "source": [
    "## Save metadata"
   ]
  },
  {
   "cell_type": "code",
   "execution_count": null,
   "metadata": {},
   "outputs": [],
   "source": [
    "createJson(cfg, 'func', parameters)"
   ]
  },
  {
   "cell_type": "code",
   "execution_count": null,
   "metadata": {},
   "outputs": [],
   "source": [
    "!tree new_experiment"
   ]
  },
  {
   "cell_type": "markdown",
   "metadata": {},
   "source": [
    "## Add content to the outpute file"
   ]
  },
  {
   "cell_type": "code",
   "execution_count": null,
   "metadata": {},
   "outputs": [],
   "source": [
    "logFile(1,1).onset = 2;\n",
    "logFile(1,1).trial_type = 'motion_up';\n",
    "logFile(1,1).duration = 1;\n",
    "logFile(1,1).target_position = 'left';\n",
    "logFile(1,1).target_type = 'audio';\n",
    "\n",
    "logFile(2,1).onset = 6;\n",
    "logFile(2,1).trial_type = 'static';\n",
    "logFile(2,1).duration = 1.2;\n",
    "logFile(2,1).target_position = 'right';\n",
    "logFile(2,1).target_type = 'visual';\n",
    "\n",
    "logFile = saveEventsFile('save', cfg, logFile);"
   ]
  },
  {
   "cell_type": "code",
   "execution_count": null,
   "metadata": {},
   "outputs": [],
   "source": [
    "% close the file\n",
    "saveEventsFile('close', cfg, logFile);"
   ]
  },
  {
   "cell_type": "markdown",
   "metadata": {},
   "source": [
    "## Content of the `events.tsv` file"
   ]
  },
  {
   "cell_type": "code",
   "execution_count": null,
   "metadata": {
    "scrolled": true
   },
   "outputs": [],
   "source": [
    "!cat new_experiment/source/sub-001/ses-001/func/sub-001_ses-001_task-*events*.tsv"
   ]
  },
  {
   "cell_type": "markdown",
   "metadata": {},
   "source": [
    "## Content of the data dictionary `events.json` file"
   ]
  },
  {
   "cell_type": "code",
   "execution_count": null,
   "metadata": {},
   "outputs": [],
   "source": [
    "!cat new_experiment/source/sub-001/ses-001/func/sub-001_ses-001_task-*events*.json"
   ]
  },
  {
   "cell_type": "markdown",
   "metadata": {},
   "source": [
    "## Content of the metadata `bold.json` file"
   ]
  },
  {
   "cell_type": "code",
   "execution_count": null,
   "metadata": {
    "scrolled": true
   },
   "outputs": [],
   "source": [
    "!cat new_experiment/source/sub-001/ses-001/func/sub-001_ses-001_task-*bold*.json"
   ]
  },
  {
   "cell_type": "markdown",
   "metadata": {},
   "source": [
    "# Convert to a BIDS dataset"
   ]
  },
  {
   "cell_type": "markdown",
   "metadata": {},
   "source": [
    "## Create a dataset description"
   ]
  },
  {
   "cell_type": "code",
   "execution_count": null,
   "metadata": {
    "scrolled": true
   },
   "outputs": [],
   "source": [
    "cfg.bids.datasetDescription.Name = 'A new BIDS dataset';\n",
    "cfg.bids.datasetDescription.BIDSVersion =  '1.3';\n",
    "cfg.bids.datasetDescription.License = 'CC-BY';\n",
    "cfg.bids.datasetDescription.Authors = {'IONS YRD 2020'};\n",
    "cfg.bids.datasetDescription.Acknowledgements = '';\n",
    "cfg.bids.datasetDescription.HowToAcknowledge = '';\n",
    "cfg.bids.datasetDescription.Funding = {''};\n",
    "cfg.bids.datasetDescription.ReferencesAndLinks = {''};\n",
    "cfg.bids.datasetDescription.DatasetDOI = '';\n",
    "\n",
    "[cfg] = createFilename(cfg);\n",
    "createDatasetDescription(cfg)"
   ]
  },
  {
   "cell_type": "code",
   "execution_count": null,
   "metadata": {},
   "outputs": [],
   "source": [
    "convertSourceToRaw(cfg)"
   ]
  },
  {
   "cell_type": "code",
   "execution_count": null,
   "metadata": {},
   "outputs": [],
   "source": [
    "!tree new_experiment"
   ]
  }
 ],
 "metadata": {
  "kernelspec": {
   "display_name": "Octave",
   "language": "octave",
   "name": "octave"
  },
  "language_info": {
   "file_extension": ".m",
   "help_links": [
    {
     "text": "GNU Octave",
     "url": "https://www.gnu.org/software/octave/support.html"
    },
    {
     "text": "Octave Kernel",
     "url": "https://github.com/Calysto/octave_kernel"
    },
    {
     "text": "MetaKernel Magics",
     "url": "https://metakernel.readthedocs.io/en/latest/source/README.html"
    }
   ],
   "mimetype": "text/x-octave",
   "name": "octave",
   "version": "4.2.2"
  }
 },
 "nbformat": 4,
 "nbformat_minor": 4
}
