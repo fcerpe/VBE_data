{
 "cells": [
  {
   "cell_type": "markdown",
   "metadata": {},
   "source": [
    "## Saving arrays in the tsv file\n",
    "\n",
    "It is possible to save several values at once in a tsv file."
   ]
  },
  {
   "cell_type": "code",
   "execution_count": 16,
   "metadata": {},
   "outputs": [],
   "source": [
    "clear cfg logFile\n",
    "\n",
    "% add the relevant functions from the src folder\n",
    "addpath(genpath(fullfile(pwd, '..', 'src')))\n",
    "addpath(genpath(fullfile(pwd, '..', 'lib')))\n",
    "\n",
    "cfg.dir.output = fullfile(pwd, 'output');\n",
    "\n",
    "cfg.task.name = 'test task';\n",
    "\n",
    "cfg.subject.subjectNb = 1;\n",
    "cfg.subject.runNb = 1;\n",
    "\n",
    "cfg.testingDevice = 'mri';\n",
    "\n",
    "cfg.verbose = 1;\n",
    "\n",
    "[cfg] = createFilename(cfg);\n",
    "\n",
    "mkdir(fullfile(cfg.dir.outputSubject, cfg.fileName.modality));"
   ]
  },
  {
   "cell_type": "markdown",
   "metadata": {},
   "source": [
    "Saving arrays into the tsv file is possible as long as you specify the length of the variables you expect for each response field."
   ]
  },
  {
   "cell_type": "code",
   "execution_count": 23,
   "metadata": {},
   "outputs": [
    {
     "name": "stdout",
     "output_type": "stream",
     "text": [
      "onset\tduration\ttrial_type\tspeed\tis_fixation\tSpeed_01\tSpeed_02\tSpeed_03\tSpeed_04\tSpeed_05\tSpeed_06\tSpeed_07\tSpeed_08\tSpeed_09\tSpeed_10\tSpeed_11\tSpeed_12\ttarget_position_01\ttarget_position_02\ttarget_type\r\n"
     ]
    }
   ],
   "source": [
    "logFile.extraColumns.target_position.length =  2;\n",
    "logFile.extraColumns.target_type.length =  1;\n",
    "\n",
    "logFile = saveEventsFile('init', cfg, logFile);\n",
    "logFile = saveEventsFile('open', cfg, logFile);"
   ]
  },
  {
   "cell_type": "markdown",
   "metadata": {},
   "source": [
    "If an event is missing the `onset` or the `duration` it will be skipped."
   ]
  },
  {
   "cell_type": "code",
   "execution_count": 18,
   "metadata": {
    "scrolled": true
   },
   "outputs": [
    {
     "name": "stdout",
     "output_type": "stream",
     "text": [
      "ans =  2\r\n",
      "ans =  1\r\n",
      "ans =  2\r\n",
      "ans =  1\r\n",
      "\r\n",
      "ans =  4\r\n",
      "ans =  1\r\n",
      "ans =  2\r\n",
      "ans =  1\r\n",
      "\r\n"
     ]
    }
   ],
   "source": [
    "% Trial one : missing duration value\n",
    "logFile(1,1).onset = 2;\n",
    "logFile(1,1).trial_type = 'motion_up';\n",
    "logFile(1,1).duration = 1;\n",
    "logFile(1,1).target_position = [2, 1];\n",
    "logFile(1,1).target_type = 'visual';\n",
    "\n",
    "% Trial two\n",
    "logFile(2,1).onset = 4;\n",
    "logFile(2,1).trial_type = 'motion_up';\n",
    "logFile(2,1).duration = 1;\n",
    "logFile(2,1).target_position = [2, 1];\n",
    "logFile(2,1).target_type = 'visual';\n",
    "\n",
    "logFile = saveEventsFile('save', cfg, logFile);"
   ]
  },
  {
   "cell_type": "markdown",
   "metadata": {},
   "source": [
    "Missing data in an array will be NaN padded."
   ]
  },
  {
   "cell_type": "code",
   "execution_count": 19,
   "metadata": {},
   "outputs": [
    {
     "name": "stdout",
     "output_type": "stream",
     "text": [
      "warning: Missing some target_position data for this event.\r\n",
      "warning: called from\r\n",
      "    saveEventsFile>checkExtracolumns at line 288 column 13\r\n",
      "    saveEventsFile>checklLogFile at line 173 column 21\r\n",
      "    saveEventsFile>saveToLogFile at line 351 column 17\r\n",
      "    saveEventsFile at line 123 column 21\r\n",
      "ans =  6\r\n",
      "ans =  1.2000\r\n",
      "ans =  3\r\n",
      "\r\n"
     ]
    }
   ],
   "source": [
    "% Trial two\n",
    "logFile(1,1).onset = 6;\n",
    "logFile(1,1).trial_type = 'static';\n",
    "logFile(1,1).duration = 1.2;\n",
    "logFile(1,1).target_position = [3];\n",
    "logFile(1,1).target_type = 'audio';\n",
    "\n",
    "logFile = saveEventsFile('save', cfg, logFile);"
   ]
  },
  {
   "cell_type": "markdown",
   "metadata": {},
   "source": [
    "And extra information will dropped from arrays. "
   ]
  },
  {
   "cell_type": "code",
   "execution_count": 20,
   "metadata": {},
   "outputs": [
    {
     "name": "stdout",
     "output_type": "stream",
     "text": [
      "warning: A field for this event is longer than expected. Truncating the extra values.\r\n",
      "warning: called from\r\n",
      "    saveEventsFile>nanPadding at line 338 column 9\r\n",
      "    saveEventsFile>checkExtracolumns at line 283 column 14\r\n",
      "    saveEventsFile>checklLogFile at line 173 column 21\r\n",
      "    saveEventsFile>saveToLogFile at line 351 column 17\r\n",
      "    saveEventsFile at line 123 column 21\r\n",
      "ans =  6\r\n",
      "ans =  1.2000\r\n",
      "ans =  3\r\n",
      "ans =  4\r\n",
      "\r\n"
     ]
    }
   ],
   "source": [
    "% Trial three\n",
    "logFile(1,1).onset = 6;\n",
    "logFile(1,1).trial_type = 'static';\n",
    "logFile(1,1).duration = 1.2;\n",
    "logFile(1,1).target_position = [3, 4, 5];\n",
    "logFile(1,1).target_type = 'touch';\n",
    "\n",
    "logFile = saveEventsFile('save', cfg, logFile);"
   ]
  },
  {
   "cell_type": "code",
   "execution_count": 21,
   "metadata": {},
   "outputs": [
    {
     "name": "stdout",
     "output_type": "stream",
     "text": [
      "\r\n",
      "Data were saved in this file:\r\n",
      "\r\n",
      "/home/remi/github/CPP_BIDS/notebooks/output/source/sub-001/ses-001/func/sub-001_ses-001_task-testTask_run-001_events_date-202011171253.tsv\r\n",
      "\r\n"
     ]
    }
   ],
   "source": [
    "% close the file\n",
    "cfg.verbose = true;\n",
    "saveEventsFile('close', cfg, logFile);"
   ]
  },
  {
   "cell_type": "markdown",
   "metadata": {},
   "source": [
    "In case you have many columns with only one value and a couple of columns with arrays.\n",
    "\n",
    "You would then do things this way"
   ]
  },
  {
   "cell_type": "code",
   "execution_count": 22,
   "metadata": {},
   "outputs": [
    {
     "name": "stdout",
     "output_type": "stream",
     "text": [
      "onset\tduration\ttrial_type\tspeed\tis_fixation\tSpeed_01\tSpeed_02\tSpeed_03\tSpeed_04\tSpeed_05\tSpeed_06\tSpeed_07\tSpeed_08\tSpeed_09\tSpeed_10\tSpeed_11\tSpeed_12\r\n"
     ]
    }
   ],
   "source": [
    "\n",
    "% define the extra columns: they will be added to the tsv files in the order the user input them\n",
    "logFile.extraColumns = {'speed', 'is_fixation', };\n",
    "\n",
    "% initialize the logFile variable\n",
    "[logFile] = saveEventsFile('init', cfg, logFile);\n",
    "\n",
    "% set the real length we really want\n",
    "logFile.extraColumns.Speed.length = 12;\n",
    "\n",
    "% open the file\n",
    "logFile = saveEventsFile('init', cfg, logFile);\n",
    "logFile = saveEventsFile('open', cfg, logFile);\n"
   ]
  }
 ],
 "metadata": {
  "kernelspec": {
   "display_name": "Octave",
   "language": "octave",
   "name": "octave"
  },
  "language_info": {
   "file_extension": ".m",
   "help_links": [
    {
     "text": "GNU Octave",
     "url": "https://www.gnu.org/software/octave/support.html"
    },
    {
     "text": "Octave Kernel",
     "url": "https://github.com/Calysto/octave_kernel"
    },
    {
     "text": "MetaKernel Magics",
     "url": "https://metakernel.readthedocs.io/en/latest/source/README.html"
    }
   ],
   "mimetype": "text/x-octave",
   "name": "octave",
   "version": "4.2.2"
  }
 },
 "nbformat": 4,
 "nbformat_minor": 4
}
